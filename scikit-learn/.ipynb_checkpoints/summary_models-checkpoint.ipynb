{
 "cells": [
  {
   "cell_type": "markdown",
   "id": "c2cfeb76",
   "metadata": {},
   "source": [
    "https://hleecaster.com/scikit-learn-cheat-sheet/  \n",
    "https://hleecaster.com/ml-accuracy-recall-precision-f1/  \n",
    "https://hleecaster.com/ml-training-validation-test-set/\n"
   ]
  },
  {
   "cell_type": "markdown",
   "id": "9acb8798",
   "metadata": {},
   "source": [
    "### Linear Regression"
   ]
  },
  {
   "cell_type": "markdown",
   "id": "a2af9cdb",
   "metadata": {},
   "source": [
    "#### Import and create the model, Fit, Predict"
   ]
  },
  {
   "cell_type": "code",
   "execution_count": 1,
   "id": "6f0b0405",
   "metadata": {},
   "outputs": [],
   "source": [
    "from sklearn.linear_model import LinearRegression\n",
    "your_model = LinearRegression()"
   ]
  },
  {
   "cell_type": "code",
   "execution_count": null,
   "id": "8527f426",
   "metadata": {},
   "outputs": [],
   "source": [
    "your_model.fit(x_training_data, y_training_data)"
   ]
  },
  {
   "cell_type": "markdown",
   "id": "6aa56c43",
   "metadata": {},
   "source": [
    ".coef_: contains the coefficients\n",
    ".intercept_: contains the intercept"
   ]
  },
  {
   "cell_type": "code",
   "execution_count": null,
   "id": "eda502ca",
   "metadata": {},
   "outputs": [],
   "source": [
    "predictions = your_model.predict(your_x_data)"
   ]
  },
  {
   "cell_type": "markdown",
   "id": "7dfd270f",
   "metadata": {},
   "source": [
    ".score(): returns the coefficient of determination R²"
   ]
  },
  {
   "cell_type": "markdown",
   "id": "03ed7432",
   "metadata": {},
   "source": [
    "### Naive Bayes"
   ]
  },
  {
   "cell_type": "markdown",
   "id": "6aabb66f",
   "metadata": {},
   "source": [
    "#### Import and create the model, Fit, Predict"
   ]
  },
  {
   "cell_type": "code",
   "execution_count": null,
   "id": "0c0bd2c4",
   "metadata": {},
   "outputs": [],
   "source": [
    "from sklearn.naive_bayes import GaussianNB\n",
    "\n",
    "your_model = GaussianNB()\n",
    "# or\n",
    "\n",
    "from sklearn.naive_bayes import MultinomialNB\n",
    "your_model = MultinomialNB()"
   ]
  },
  {
   "cell_type": "code",
   "execution_count": null,
   "id": "2cc220d3",
   "metadata": {},
   "outputs": [],
   "source": [
    "your_model.fit(x_training_data, y_training_data)"
   ]
  },
  {
   "cell_type": "code",
   "execution_count": null,
   "id": "e66c4a23",
   "metadata": {},
   "outputs": [],
   "source": [
    "# Returns a list of predicted classes - one prediction for every data point\n",
    "predictions = your_model.predict(your_x_data)\n",
    "# For every data point, returns a list of probabilities of each class\n",
    "probabilities = your_model.predict_proba(your_x_data)"
   ]
  },
  {
   "cell_type": "markdown",
   "id": "e2602b3f",
   "metadata": {},
   "source": [
    "### K-Nearest Neighbors"
   ]
  },
  {
   "cell_type": "markdown",
   "id": "616b0d35",
   "metadata": {},
   "source": [
    "#### Import and create the model, Fit, Predict"
   ]
  },
  {
   "cell_type": "code",
   "execution_count": null,
   "id": "eba76ae4",
   "metadata": {},
   "outputs": [],
   "source": [
    "from sklearn.neigbors import KNeighborsClassifier\n",
    "your_model = KNeighborsClassifier()"
   ]
  },
  {
   "cell_type": "code",
   "execution_count": null,
   "id": "e43bb626",
   "metadata": {},
   "outputs": [],
   "source": [
    "your_model.fit(x_training_data, y_training_data)"
   ]
  },
  {
   "cell_type": "code",
   "execution_count": null,
   "id": "df7539bf",
   "metadata": {},
   "outputs": [],
   "source": [
    "# Returns a list of predicted classes - one prediction for every data point\n",
    "predictions = your_model.predict(your_x_data)\n",
    "# For every data point, returns a list of probabilities of each class\n",
    "probabilities = your_model.predict_proba(your_x_data)"
   ]
  },
  {
   "cell_type": "markdown",
   "id": "87b49a93",
   "metadata": {},
   "source": [
    "### K-Means"
   ]
  },
  {
   "cell_type": "markdown",
   "id": "14e363ab",
   "metadata": {},
   "source": [
    "#### Import and create the model, Fit, Predict"
   ]
  },
  {
   "cell_type": "code",
   "execution_count": null,
   "id": "c2eebe69",
   "metadata": {},
   "outputs": [],
   "source": [
    "from sklearn.cluster import KMeans\n",
    "your_model = KMeans(n_clusters=4, init='random')"
   ]
  },
  {
   "cell_type": "markdown",
   "id": "c76c1c80",
   "metadata": {},
   "source": [
    "n_clusters: number of clusters to form and number of centroids to generate  \n",
    "init: method for initialization  \n",
    "k-means++: K-Means++ [default]  \n",
    "random: K-Means  \n",
    "random_state: the seed used by the random number generator [optional]  "
   ]
  },
  {
   "cell_type": "code",
   "execution_count": null,
   "id": "252538e9",
   "metadata": {},
   "outputs": [],
   "source": [
    "your_model.fit(x_training_data)"
   ]
  },
  {
   "cell_type": "code",
   "execution_count": null,
   "id": "e707ed3d",
   "metadata": {},
   "outputs": [],
   "source": [
    "predictions = your_model.predict(your_x_data)"
   ]
  },
  {
   "cell_type": "markdown",
   "id": "78586d49",
   "metadata": {},
   "source": [
    "### Training Sets and Test Sets"
   ]
  },
  {
   "cell_type": "code",
   "execution_count": null,
   "id": "ae547d34",
   "metadata": {},
   "outputs": [],
   "source": [
    "from sklearn.model_selection import train_test_split\n",
    "x_train, x_test, y_train, y_test = train_test_split(x, y, train_size=0.8, test_size=0.2)"
   ]
  },
  {
   "cell_type": "markdown",
   "id": "3c4fe301",
   "metadata": {},
   "source": [
    "train_size: the proportion of the dataset to include in the train split  \n",
    "test_size: the proportion of the dataset to include in the test split  \n",
    "random_state: the seed used by the random number generator [optional]  "
   ]
  },
  {
   "cell_type": "markdown",
   "id": "8d3bddf5",
   "metadata": {},
   "source": [
    "### Validating the Model"
   ]
  },
  {
   "cell_type": "markdown",
   "id": "bba3bcb0",
   "metadata": {},
   "source": [
    "#### Import and print accuracy, recall, precision, and F1 score:"
   ]
  },
  {
   "cell_type": "code",
   "execution_count": null,
   "id": "0fbb6e71",
   "metadata": {},
   "outputs": [],
   "source": [
    "from sklearn.metrics import accuracy_score, recall_score, precision_score, f1_score\n",
    "print(accuracy_score(true_labels, guesses))\n",
    "print(recall_score(true_labels, guesses))\n",
    "print(precision_score(true_labels, guesses))\n",
    "print(f1_score(true_labels, guesses))"
   ]
  },
  {
   "cell_type": "markdown",
   "id": "ae35de58",
   "metadata": {},
   "source": [
    "#### Import and print the confusion matrix"
   ]
  },
  {
   "cell_type": "code",
   "execution_count": null,
   "id": "ef611b15",
   "metadata": {},
   "outputs": [],
   "source": [
    "from sklearn.metrics import confusion_matrix\n",
    "print(confusion_matrix(true_labels, guesses))"
   ]
  },
  {
   "cell_type": "code",
   "execution_count": null,
   "id": "56e7de8e",
   "metadata": {},
   "outputs": [],
   "source": []
  }
 ],
 "metadata": {
  "kernelspec": {
   "display_name": "Python 3",
   "language": "python",
   "name": "python3"
  },
  "language_info": {
   "codemirror_mode": {
    "name": "ipython",
    "version": 3
   },
   "file_extension": ".py",
   "mimetype": "text/x-python",
   "name": "python",
   "nbconvert_exporter": "python",
   "pygments_lexer": "ipython3",
   "version": "3.9.10"
  }
 },
 "nbformat": 4,
 "nbformat_minor": 5
}
