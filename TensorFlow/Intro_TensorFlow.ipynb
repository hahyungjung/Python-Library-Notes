{
 "cells": [
  {
   "cell_type": "markdown",
   "id": "e0bc3707",
   "metadata": {},
   "source": [
    "https://www.tensorflow.org/guide/basics\n"
   ]
  },
  {
   "cell_type": "code",
   "execution_count": 1,
   "id": "9f2d7e3e",
   "metadata": {},
   "outputs": [],
   "source": [
    "#!pip install tensorflow\n",
    "\n",
    "import tensorflow as tf\n"
   ]
  },
  {
   "cell_type": "code",
   "execution_count": 4,
   "id": "7f3381f7",
   "metadata": {},
   "outputs": [
    {
     "name": "stdout",
     "output_type": "stream",
     "text": [
      "tf.Tensor(0, shape=(), dtype=int32)\n",
      "tf.Tensor(1, shape=(), dtype=int32)\n",
      "tf.Tensor(2, shape=(), dtype=int32)\n",
      "tf.Tensor(3, shape=(), dtype=int32)\n"
     ]
    }
   ],
   "source": [
    "scalar = tf.constant(1)\n",
    "vector = tf.constant([1, 2, 3])\n",
    "matrix = tf.constant([[1, 2, 3], [4, 5, 6], [7, 8, 9]])\n",
    "tensor = tf.constant([[[1, 2, 3], [4, 5, 6], [7, 8, 9]],\n",
    "                    [[1, 2, 3], [4, 5, 6], [7, 8, 9]],\n",
    "                    [[1, 2, 3], [4, 5, 6], [7, 8, 9]]])\n",
    "\n",
    "print(tf.rank(scalar))\n",
    "print(tf.rank(vector))\n",
    "print(tf.rank(matrix))\n",
    "print(tf.rank(tensor))"
   ]
  },
  {
   "cell_type": "code",
   "execution_count": 5,
   "id": "7e38e769",
   "metadata": {},
   "outputs": [
    {
     "name": "stdout",
     "output_type": "stream",
     "text": [
      "tf.Tensor(1, shape=(), dtype=int32)\n",
      "tf.Tensor([2], shape=(1,), dtype=int32)\n",
      "tf.Tensor(\n",
      "[[1 2]\n",
      " [3 4]], shape=(2, 2), dtype=int32)\n"
     ]
    }
   ],
   "source": [
    "a = tf.constant(1)\n",
    "b = tf.constant([2])\n",
    "c = tf.constant([[1, 2], [3, 4]])\n",
    "\n",
    "print(a)\n",
    "print(b)\n",
    "print(c)"
   ]
  },
  {
   "cell_type": "code",
   "execution_count": 6,
   "id": "60013efa",
   "metadata": {},
   "outputs": [
    {
     "name": "stdout",
     "output_type": "stream",
     "text": [
      "tf.Tensor([0.], shape=(1,), dtype=float32)\n",
      "tf.Tensor([0. 0.], shape=(2,), dtype=float32)\n",
      "tf.Tensor(\n",
      "[[0. 0. 0.]\n",
      " [0. 0. 0.]], shape=(2, 3), dtype=float32)\n"
     ]
    }
   ],
   "source": [
    "a = tf.zeros(1)\n",
    "b = tf.zeros([2])\n",
    "c = tf.zeros([2, 3])\n",
    "\n",
    "print(a)\n",
    "print(b)\n",
    "print(c)"
   ]
  },
  {
   "cell_type": "code",
   "execution_count": 7,
   "id": "296e0acb",
   "metadata": {},
   "outputs": [
    {
     "name": "stdout",
     "output_type": "stream",
     "text": [
      "tf.Tensor([1. 1. 1.], shape=(3,), dtype=float32)\n",
      "tf.Tensor([1. 1. 1. 1.], shape=(4,), dtype=float32)\n",
      "tf.Tensor(\n",
      "[[[1. 1.]\n",
      "  [1. 1.]]\n",
      "\n",
      " [[1. 1.]\n",
      "  [1. 1.]]], shape=(2, 2, 2), dtype=float32)\n"
     ]
    }
   ],
   "source": [
    "a = tf.ones(3)\n",
    "b = tf.ones([4])\n",
    "c = tf.ones([2, 2, 2])\n",
    "\n",
    "print(a)\n",
    "print(b)\n",
    "print(c)"
   ]
  },
  {
   "cell_type": "code",
   "execution_count": 8,
   "id": "14a50156",
   "metadata": {},
   "outputs": [
    {
     "name": "stdout",
     "output_type": "stream",
     "text": [
      "tf.Tensor([0 1 2], shape=(3,), dtype=int32)\n",
      "tf.Tensor([1 3], shape=(2,), dtype=int32)\n"
     ]
    }
   ],
   "source": [
    "a = tf.range(0, 3)\n",
    "b = tf.range(1, 5, 2)\n",
    "\n",
    "print(a)\n",
    "print(b)"
   ]
  },
  {
   "cell_type": "markdown",
   "id": "7a431822",
   "metadata": {},
   "source": [
    "### Type & Shape"
   ]
  },
  {
   "cell_type": "code",
   "execution_count": 21,
   "id": "937cf86d",
   "metadata": {},
   "outputs": [
    {
     "name": "stdout",
     "output_type": "stream",
     "text": [
      "<dtype: 'int32'> ()\n",
      "<dtype: 'int32'> (1,)\n",
      "<dtype: 'int32'> (3,)\n",
      "<dtype: 'int32'> (3, 3)\n",
      "<dtype: 'int32'> (2, 3, 3)\n",
      "<dtype: 'int32'> (3, 3, 3)\n"
     ]
    }
   ],
   "source": [
    "a = tf.constant(1)\n",
    "b = tf.constant([2])\n",
    "c = tf.constant([3, 4, 5])\n",
    "d = tf.constant([[1, 2, 3], [4, 5, 6], [7, 8, 9]])\n",
    "e = tf.constant([[[1, 2, 3], [4, 5, 6], [7, 8, 9]],\n",
    "                    [[1, 2, 3], [4, 5, 6], [7, 8, 9]]])\n",
    "f = tf.constant([[[1, 2, 3], [4, 5, 6], [7, 8, 9]],\n",
    "                    [[1, 2, 3], [4, 5, 6], [7, 8, 9]],\n",
    "                    [[1, 2, 3], [4, 5, 6], [7, 8, 9]]])\n",
    "\n",
    "print(a.dtype, a.shape)\n",
    "print(b.dtype, b.shape)\n",
    "print(c.dtype, c.shape)\n",
    "print(d.dtype, d.shape)\n",
    "print(e.dtype, e.shape)\n",
    "print(f.dtype, f.shape)"
   ]
  },
  {
   "cell_type": "code",
   "execution_count": 22,
   "id": "2bb47d80",
   "metadata": {},
   "outputs": [
    {
     "name": "stdout",
     "output_type": "stream",
     "text": [
      "<dtype: 'float32'> (2,)\n",
      "<dtype: 'float32'> (1, 3)\n",
      "<dtype: 'int32'> (2, 2)\n"
     ]
    }
   ],
   "source": [
    "d = tf.constant([1., 2.])\n",
    "e = tf.constant([[1, 2., 3]])\n",
    "f = tf.constant([[1, 2], [3, 4]])\n",
    "\n",
    "print(d.dtype, d.shape)\n",
    "print(e.dtype, e.shape)\n",
    "print(f.dtype, f.shape)"
   ]
  },
  {
   "cell_type": "code",
   "execution_count": 24,
   "id": "360eac46",
   "metadata": {},
   "outputs": [
    {
     "name": "stdout",
     "output_type": "stream",
     "text": [
      "tf.Tensor(\n",
      "[[1. 2.]\n",
      " [3. 4.]\n",
      " [5. 6.]], shape=(3, 2), dtype=float16)\n"
     ]
    }
   ],
   "source": [
    "rank_2_tensor = tf.constant([[1, 2],\n",
    "                             [3, 4],\n",
    "                             [5, 6]], dtype=tf.float16)\n",
    "print(rank_2_tensor)"
   ]
  },
  {
   "cell_type": "code",
   "execution_count": 25,
   "id": "acf0e126",
   "metadata": {},
   "outputs": [
    {
     "name": "stdout",
     "output_type": "stream",
     "text": [
      "tf.Tensor(\n",
      "[[[ 0  1  2  3  4]\n",
      "  [ 5  6  7  8  9]]\n",
      "\n",
      " [[10 11 12 13 14]\n",
      "  [15 16 17 18 19]]\n",
      "\n",
      " [[20 21 22 23 24]\n",
      "  [25 26 27 28 29]]], shape=(3, 2, 5), dtype=int32)\n"
     ]
    }
   ],
   "source": [
    "rank_3_tensor = tf.constant([\n",
    "  [[0, 1, 2, 3, 4],\n",
    "   [5, 6, 7, 8, 9]],\n",
    "  [[10, 11, 12, 13, 14],\n",
    "   [15, 16, 17, 18, 19]],\n",
    "  [[20, 21, 22, 23, 24],\n",
    "   [25, 26, 27, 28, 29]],])\n",
    "\n",
    "print(rank_3_tensor)"
   ]
  },
  {
   "cell_type": "code",
   "execution_count": null,
   "id": "5050e9af",
   "metadata": {},
   "outputs": [],
   "source": [
    "print(rank_3_tensor)"
   ]
  }
 ],
 "metadata": {
  "kernelspec": {
   "display_name": "Python 3 (ipykernel)",
   "language": "python",
   "name": "python3"
  },
  "language_info": {
   "codemirror_mode": {
    "name": "ipython",
    "version": 3
   },
   "file_extension": ".py",
   "mimetype": "text/x-python",
   "name": "python",
   "nbconvert_exporter": "python",
   "pygments_lexer": "ipython3",
   "version": "3.7.13"
  }
 },
 "nbformat": 4,
 "nbformat_minor": 5
}
